{
  "cells": [
    {
      "cell_type": "markdown",
      "metadata": {
        "id": "view-in-github",
        "colab_type": "text"
      },
      "source": [
        "<a href=\"https://colab.research.google.com/github/TatianaFilimonova/Personal-projects/blob/main/FRAP_processing_(Collab_ver).ipynb\" target=\"_parent\"><img src=\"https://colab.research.google.com/assets/colab-badge.svg\" alt=\"Open In Colab\"/></a>"
      ]
    },
    {
      "cell_type": "code",
      "source": [
        "from google.colab import drive\n",
        "drive.mount('/content/drive')"
      ],
      "metadata": {
        "colab": {
          "base_uri": "https://localhost:8080/"
        },
        "id": "LuWqK0v36ZGc",
        "outputId": "e026b0f6-bfcc-4401-988f-81684a8af061"
      },
      "execution_count": 1,
      "outputs": [
        {
          "output_type": "stream",
          "name": "stdout",
          "text": [
            "Mounted at /content/drive\n"
          ]
        }
      ]
    },
    {
      "cell_type": "code",
      "execution_count": 2,
      "metadata": {
        "id": "0aPCmrRvu1uB",
        "colab": {
          "base_uri": "https://localhost:8080/"
        },
        "outputId": "38822ecb-2b9d-4575-8e59-6aa50de0e984"
      },
      "outputs": [
        {
          "output_type": "stream",
          "name": "stdout",
          "text": [
            "Введите, сколько первых СТРОК необходимо удалить: 3\n",
            "Введите, сколько первых СТОЛБЦОВ необходимо удалить: 3\n",
            "Изображение /content/drive/MyDrive/FRAP files/03_VEZ_1_5_FRAP_20x_0.75_405_nm_Laser3_U900_bleach100_snap30_t00.tif успешно загружено.\n",
            "Изображение /content/drive/MyDrive/FRAP files/03_VEZ_1_5_FRAP_20x_0.75_405_nm_Laser3_U900_bleach100_snap30_t02.tif успешно загружено.\n",
            "Изображение /content/drive/MyDrive/FRAP files/03_VEZ_1_5_FRAP_20x_0.75_405_nm_Laser3_U900_bleach100_snap30_t03.tif успешно загружено.\n",
            "Изображение /content/drive/MyDrive/FRAP files/03_VEZ_1_5_FRAP_20x_0.75_405_nm_Laser3_U900_bleach100_snap30_t04.tif успешно загружено.\n",
            "Изображение /content/drive/MyDrive/FRAP files/03_VEZ_1_5_FRAP_20x_0.75_405_nm_Laser3_U900_bleach100_snap30_t05.tif успешно загружено.\n",
            "Изображение /content/drive/MyDrive/FRAP files/03_VEZ_1_5_FRAP_20x_0.75_405_nm_Laser3_U900_bleach100_snap30_t06.tif успешно загружено.\n",
            "Изображение /content/drive/MyDrive/FRAP files/03_VEZ_1_5_FRAP_20x_0.75_405_nm_Laser3_U900_bleach100_snap30_t07.tif успешно загружено.\n",
            "Изображение /content/drive/MyDrive/FRAP files/03_VEZ_1_5_FRAP_20x_0.75_405_nm_Laser3_U900_bleach100_snap30_t08.tif успешно загружено.\n",
            "Изображение /content/drive/MyDrive/FRAP files/03_VEZ_1_5_FRAP_20x_0.75_405_nm_Laser3_U900_bleach100_snap30_t09.tif успешно загружено.\n",
            "Изображение /content/drive/MyDrive/FRAP files/03_VEZ_1_5_FRAP_20x_0.75_405_nm_Laser3_U900_bleach100_snap30_t10.tif успешно загружено.\n",
            "Изображение /content/drive/MyDrive/FRAP files/03_VEZ_1_5_FRAP_20x_0.75_405_nm_Laser3_U900_bleach100_snap30_t11.tif успешно загружено.\n",
            "Изображение /content/drive/MyDrive/FRAP files/03_VEZ_1_5_FRAP_20x_0.75_405_nm_Laser3_U900_bleach100_snap30_t12.tif успешно загружено.\n",
            "Изображение /content/drive/MyDrive/FRAP files/03_VEZ_1_5_FRAP_20x_0.75_405_nm_Laser3_U900_bleach100_snap30_t13.tif успешно загружено.\n",
            "Изображение /content/drive/MyDrive/FRAP files/03_VEZ_1_5_FRAP_20x_0.75_405_nm_Laser3_U900_bleach100_snap30_t14.tif успешно загружено.\n",
            "Изображение /content/drive/MyDrive/FRAP files/03_VEZ_1_5_FRAP_20x_0.75_405_nm_Laser3_U900_bleach100_snap30_t15.tif успешно загружено.\n",
            "Изображение /content/drive/MyDrive/FRAP files/03_VEZ_1_5_FRAP_20x_0.75_405_nm_Laser3_U900_bleach100_snap30_t16.tif успешно загружено.\n",
            "Изображение /content/drive/MyDrive/FRAP files/03_VEZ_1_5_FRAP_20x_0.75_405_nm_Laser3_U900_bleach100_snap30_t17.tif успешно загружено.\n",
            "Изображение /content/drive/MyDrive/FRAP files/03_VEZ_1_5_FRAP_20x_0.75_405_nm_Laser3_U900_bleach100_snap30_t18.tif успешно загружено.\n",
            "Изображение /content/drive/MyDrive/FRAP files/03_VEZ_1_5_FRAP_20x_0.75_405_nm_Laser3_U900_bleach100_snap30_t19.tif успешно загружено.\n",
            "Изображение /content/drive/MyDrive/FRAP files/03_VEZ_1_5_FRAP_20x_0.75_405_nm_Laser3_U900_bleach100_snap30_t20.tif успешно загружено.\n",
            "Изображение /content/drive/MyDrive/FRAP files/03_VEZ_1_5_FRAP_20x_0.75_405_nm_Laser3_U900_bleach100_snap30_t21.tif успешно загружено.\n",
            "Изображение /content/drive/MyDrive/FRAP files/03_VEZ_1_5_FRAP_20x_0.75_405_nm_Laser3_U900_bleach100_snap30_t22.tif успешно загружено.\n",
            "Изображение /content/drive/MyDrive/FRAP files/03_VEZ_1_5_FRAP_20x_0.75_405_nm_Laser3_U900_bleach100_snap30_t23.tif успешно загружено.\n",
            "Изображение /content/drive/MyDrive/FRAP files/03_VEZ_1_5_FRAP_20x_0.75_405_nm_Laser3_U900_bleach100_snap30_t24.tif успешно загружено.\n",
            "Изображение /content/drive/MyDrive/FRAP files/03_VEZ_1_5_FRAP_20x_0.75_405_nm_Laser3_U900_bleach100_snap30_t25.tif успешно загружено.\n",
            "Изображение /content/drive/MyDrive/FRAP files/03_VEZ_1_5_FRAP_20x_0.75_405_nm_Laser3_U900_bleach100_snap30_t26.tif успешно загружено.\n",
            "Изображение /content/drive/MyDrive/FRAP files/03_VEZ_1_5_FRAP_20x_0.75_405_nm_Laser3_U900_bleach100_snap30_t27.tif успешно загружено.\n",
            "Изображение /content/drive/MyDrive/FRAP files/03_VEZ_1_5_FRAP_20x_0.75_405_nm_Laser3_U900_bleach100_snap30_t28.tif успешно загружено.\n",
            "Изображение /content/drive/MyDrive/FRAP files/03_VEZ_1_5_FRAP_20x_0.75_405_nm_Laser3_U900_bleach100_snap30_t29.tif успешно загружено.\n"
          ]
        }
      ],
      "source": [
        "import cv2\n",
        "import numpy as np\n",
        "import glob\n",
        "import os\n",
        "\n",
        "n = int(input('Введите, сколько первых СТРОК необходимо удалить: '))\n",
        "m = int(input('Введите, сколько первых СТОЛБЦОВ необходимо удалить: '))\n",
        "common_mean = []\n",
        "\n",
        "tif_files = glob.glob('/content/drive/MyDrive/FRAP files/*.tif')\n",
        "#tif_files = glob.glob('/content/*.tif')\n",
        "tif_files.sort()\n",
        "for filename in tif_files:\n",
        "    image = cv2.imread(filename, -1)\n",
        "#    print(image) # Можно проверить исходный массив, если надо\n",
        "\n",
        "    if image is None:\n",
        "        print(f'Ошибка загрузки {filename}')\n",
        "        continue\n",
        "    print(f'Изображение {filename} успешно загружено.')\n",
        "\n",
        "    # По умолчанию я дополнительно удаляю по 2 строки снизу и 2 столбца справа\n",
        "    image = np.delete(image, [image.shape[1]-2, image.shape[1]-1, image.shape[1]-3], 0)\n",
        "    image = np.delete(image, [range(n)], 0)\n",
        "    image = np.delete(image, [image.shape[1]-2, image.shape[1]-1], 1)\n",
        "    image = np.delete(image, [range(m)], 1)\n",
        "#    print(image)\n",
        "\n",
        "    mean_im = np.round(np.mean(image, axis=1, dtype=np.float32))\n",
        "    common_mean.append(mean_im.tolist())\n",
        "\n",
        "#print(common_mean)"
      ]
    },
    {
      "cell_type": "markdown",
      "source": [
        "Если есть явный выброс, отсчитай номер точки и вставь ее номер вместо X. И раскомментируй строку в блоке ниже. Но лучше так не делать"
      ],
      "metadata": {
        "id": "wsoSbhkV_G7w"
      }
    },
    {
      "cell_type": "code",
      "source": [
        "#del common_mean[X]"
      ],
      "metadata": {
        "id": "D5gVevlR_F1U"
      },
      "execution_count": 3,
      "outputs": []
    },
    {
      "cell_type": "code",
      "source": [
        "norm_data = []\n",
        "for i in range(1, len(common_mean)):\n",
        "  norm_collumn = []\n",
        "  for j in range(len(common_mean[0])):\n",
        "    norm_collumn.append(common_mean[i][j]/common_mean[0][j])\n",
        "  norm_data.append(norm_collumn)\n",
        "\n",
        "#print(len(norm_data))\n",
        "#print(norm_data[0])"
      ],
      "metadata": {
        "id": "SG6y-j4oOeGf"
      },
      "execution_count": 4,
      "outputs": []
    },
    {
      "cell_type": "code",
      "source": [
        "import numpy as np\n",
        "import matplotlib.pyplot as plt\n",
        "from scipy.optimize import curve_fit\n",
        "from scipy.signal import find_peaks\n",
        "\n",
        "def gaussian(x, y0, A, xc, w):\n",
        "    return y0 + (A / (w * np.sqrt(np.pi / (4 * np.log(2))))) * np.exp(-4 * np.log(2) * (x - xc)**2 / w**2)\n",
        "\n",
        "def find_fwhm(data):\n",
        "    # Значения по X\n",
        "    x_values = np.linspace(1, 425, len(data))\n",
        "\n",
        "    # Сглаживание данных (скользящее среднее)\n",
        "    window_size = 10  # Размер окна для скользящего среднего\n",
        "    smoothed_data = np.convolve(data, np.ones(window_size) / window_size, mode='valid')\n",
        "    x_smoothed = x_values[:len(smoothed_data)]  # Обрезаем X для сглаженных данных\n",
        "\n",
        "    # Поиск локальных минимумов (используем инвертированные данные)\n",
        "    inverted_data = -smoothed_data  # Инвертируем данные для поиска минимумов\n",
        "    peaks, _ = find_peaks(inverted_data, height=np.mean(inverted_data))  # Находим пики в инвертированных данных\n",
        "\n",
        "    # Определить направление колокола\n",
        "    if len(peaks) == 0:\n",
        "        # Если минимумы не найдены, считаем, что колокол направлен вверх\n",
        "        peak_value = np.max(smoothed_data)\n",
        "        peak_index = np.argmax(smoothed_data)\n",
        "        A_initial = (peak_value - np.mean(smoothed_data)) * 10  # Положительная амплитуда\n",
        "    else:\n",
        "        # Если найдены минимумы, выбираем самый глубокий минимум\n",
        "        min_index = peaks[np.argmin(smoothed_data[peaks])]  # Индекс самого глубокого минимума\n",
        "        peak_value = smoothed_data[min_index]  # Значение в минимуме\n",
        "        peak_index = min_index  # Индекс минимума\n",
        "        A_initial = (peak_value - np.mean(smoothed_data)) * 10  # Отрицательная амплитуда\n",
        "\n",
        "    # Начальные параметры для аппроксимации\n",
        "    # y0: смещение, A: площадь, xc: центр, w: полуширина (FWHM)\n",
        "    p0 = [\n",
        "        np.mean(smoothed_data),  # y0 (среднее значение данных)\n",
        "        A_initial,  # A (площадь под кривой)\n",
        "        x_smoothed[peak_index],  # xc (центр колокола, значение по X)\n",
        "        10,  # w (начальное предположение для полуширины)\n",
        "    ]\n",
        "\n",
        "    # Аппроксимация данных функцией Гаусса\n",
        "    params, cov = curve_fit(gaussian, x_smoothed, smoothed_data, p0=p0, maxfev=10000)\n",
        "\n",
        "    # Создание гладкой сетки для построения аппроксимирующей кривой\n",
        "    x_smooth = np.linspace(1, 425, len(data))\n",
        "    y_smooth = gaussian(x_smooth, *params)\n",
        "\n",
        "    # Вычисление полуширины (FWHM)\n",
        "    y0, A, xc, w = params\n",
        "    y_max = gaussian(xc, *params)\n",
        "    y_half = y0 + (y_max - y0) / 2\n",
        "\n",
        "    # Решение уравнения для нахождения точек полуширины\n",
        "    from scipy.optimize import fsolve\n",
        "\n",
        "    def equation(x):\n",
        "        return gaussian(x, *params) - y_half\n",
        "\n",
        "    # Начальные приближения для поиска корней\n",
        "    x_left_guess = xc - w\n",
        "    x_right_guess = xc + w\n",
        "\n",
        "    # Нахождение корней\n",
        "    x_left = fsolve(equation, x_left_guess)[0]\n",
        "    x_right = fsolve(equation, x_right_guess)[0]\n",
        "\n",
        "    # Полуширина\n",
        "    fwhm = x_right - x_left\n",
        "\n",
        "    #Если надо проверить, что Гаусс нормальный получился, можно отрисовать их (отрисуются после запуска следующего куска кода!)\n",
        "    '''plt.plot(x_values, data, 'b-', label='Исходные данные')\n",
        "    plt.plot(x_smoothed, smoothed_data, 'g-', label='Сглаженные данные')\n",
        "    plt.plot(x_smooth, y_smooth, 'r-', label='Аппроксимация (Гаусс)')\n",
        "    plt.axhline(y_half, color='gray', linestyle='--', label='Половина высоты')\n",
        "    plt.axvline(x_left, color='green', linestyle='--', label=f'x_left = {x_left:.2f}')\n",
        "    plt.axvline(x_right, color='purple', linestyle='--', label=f'x_right = {x_right:.2f}')\n",
        "    plt.xlabel('X')\n",
        "    plt.ylabel('Значение')\n",
        "    plt.legend()\n",
        "    plt.title(f'Аппроксимация данных функцией Гаусса\\nПолуширина (FWHM) = {fwhm:.2f}')\n",
        "    plt.show()'''\n",
        "\n",
        "    return fwhm"
      ],
      "metadata": {
        "id": "1qkJdzNOPrao"
      },
      "execution_count": 5,
      "outputs": []
    },
    {
      "cell_type": "code",
      "source": [
        "all_pic_w2 = []\n",
        "for i in range(len(norm_data)):\n",
        "    all_pic_w2.append(round(float(find_fwhm(norm_data[i])) ** 2, 2))\n",
        "#print(all_pic_w2)\n",
        "\n",
        "time_start, time_end = map(float, input('Введите время с первого изображение и с последнего через пробел: ').split())\n",
        "time = np.linspace(time_start, time_end, len(all_pic_w2))\n",
        "\n",
        "p = np.polyfit(time, all_pic_w2, 1)\n",
        "print('Slope = ', round(p[0], 2))\n",
        "ya = np.polyval(p, time)\n",
        "\n",
        "plt.scatter(time, all_pic_w2)\n",
        "plt.plot(time, ya)\n",
        "plt.xlabel('Время, с')\n",
        "plt.ylabel('Квадрат полуширины W^2')\n",
        "plt.grid()\n",
        "plt.show()"
      ],
      "metadata": {
        "colab": {
          "base_uri": "https://localhost:8080/",
          "height": 484
        },
        "id": "QFFEo67SLen2",
        "outputId": "82529033-dd4f-4d43-e748-2ff474b2fd1f"
      },
      "execution_count": 6,
      "outputs": [
        {
          "output_type": "stream",
          "name": "stdout",
          "text": [
            "Введите время с первого изображение и с последнего через пробел: 5.384 26.538\n",
            "Slope =  5428.98\n"
          ]
        },
        {
          "output_type": "display_data",
          "data": {
            "text/plain": [
              "<Figure size 640x480 with 1 Axes>"
            ],
            "image/png": "[encoded data removed]"
          },
          "metadata": {}
        }
      ]
    },
    {
      "cell_type": "code",
      "source": [
        "from math import pi\n",
        "\n",
        "def size_of_particle(slope):\n",
        "    t = int(input('Введите температуру в помещении в Кельвинах: '))\n",
        "    radius = (1.38*t/(6*pi*0.01*(slope/8)))/10\n",
        "    return radius\n",
        "\n",
        "print('r = ', round(size_of_particle(p[0]), 5), \" nm\")"
      ],
      "metadata": {
        "colab": {
          "base_uri": "https://localhost:8080/"
        },
        "id": "QDqXoEG1Lp4x",
        "outputId": "4c5d6c5f-ca97-499a-a305-083a8b77ae36"
      },
      "execution_count": 8,
      "outputs": [
        {
          "output_type": "stream",
          "name": "stdout",
          "text": [
            "Введите температуру в помещении в Кельвинах: 293\n",
            "r =  0.31609  nm\n"
          ]
        }
      ]
    }
  ],
  "metadata": {
    "colab": {
      "provenance": [],
      "include_colab_link": true
    },
    "kernelspec": {
      "display_name": "Python 3",
      "name": "python3"
    },
    "language_info": {
      "name": "python"
    }
  },
  "nbformat": 4,
  "nbformat_minor": 0
}